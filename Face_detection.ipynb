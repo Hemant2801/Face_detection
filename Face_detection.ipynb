{
 "cells": [
  {
   "cell_type": "code",
   "execution_count": 1,
   "id": "a978158e",
   "metadata": {},
   "outputs": [],
   "source": [
    "import cv2\n",
    "\n",
    "faceCascade = cv2.CascadeClassifier('haarcascade_frontalface_default.xml')\n",
    "#for image\n",
    "#img = cv2.imread('multiple1.jpg')\n",
    "\n",
    "#for video\n",
    "vdo = cv2.VideoCapture(0)\n",
    "vdo.set(3,640)\n",
    "vdo.set(4,480)\n",
    "vdo.set(10,500)\n",
    "    \n",
    "while True:\n",
    "    success, img = vdo.read()\n",
    "    \n",
    "    imgGray = cv2.cvtColor(img, cv2.COLOR_BGR2GRAY)\n",
    "    face = faceCascade.detectMultiScale(imgGray , 1.1 , 4 )\n",
    "    \n",
    "    for (x,y,w,h) in face:\n",
    "        a = cv2.rectangle(img , (x,y) , (x+w, y+h) , (255,0,0) , 2)\n",
    "        cv2.putText(img , f'FACES : {len(face)} ' , (20,70) , cv2.FONT_HERSHEY_COMPLEX , 1 , (255,255,0) ,1 )\n",
    "    cv2.imshow(\"OUTPUT\",img)\n",
    "    if cv2.waitKey(1) & 0xff == ord('q'):\n",
    "        break"
   ]
  },
  {
   "cell_type": "code",
   "execution_count": null,
   "id": "8d48f97f",
   "metadata": {},
   "outputs": [],
   "source": []
  }
 ],
 "metadata": {
  "kernelspec": {
   "display_name": "Python 3",
   "language": "python",
   "name": "python3"
  },
  "language_info": {
   "codemirror_mode": {
    "name": "ipython",
    "version": 3
   },
   "file_extension": ".py",
   "mimetype": "text/x-python",
   "name": "python",
   "nbconvert_exporter": "python",
   "pygments_lexer": "ipython3",
   "version": "3.8.8"
  }
 },
 "nbformat": 4,
 "nbformat_minor": 5
}
